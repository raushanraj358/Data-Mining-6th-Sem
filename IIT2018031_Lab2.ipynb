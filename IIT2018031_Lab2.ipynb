{
  "nbformat": 4,
  "nbformat_minor": 0,
  "metadata": {
    "colab": {
      "name": "IIT2018031.ipynb",
      "provenance": []
    },
    "kernelspec": {
      "name": "python3",
      "display_name": "Python 3"
    }
  },
  "cells": [
    {
      "cell_type": "code",
      "metadata": {
        "id": "Q7DZdD0ytfkz"
      },
      "source": [
        "import pandas as pd\r\n",
        "\r\n",
        "df = pd.read_csv('store_data.csv',header = None)\r\n",
        "import numpy as np\r\n",
        "\r\n",
        "confidence = .2\r\n",
        "C = {}\r\n",
        "\r\n",
        "transactions = []\r\n",
        "for i in range(len(df)):\r\n",
        "    x = list(df.loc[i])\r\n",
        "    x = [p for p in x if p is not np.nan]\r\n",
        "    transactions.append(x)\r\n",
        "\r\n",
        "support = 0.03*len(transactions)\r\n",
        "\r\n",
        "items = set()\r\n",
        "for i in range(len(transactions)):\r\n",
        "    for j in range(len(transactions[i])):\r\n",
        "        items.add(frozenset([transactions[i][j]]))\r\n",
        "for it in items:\r\n",
        "    for i in range(len(transactions)):\r\n",
        "        if it.issubset(transactions[i]):\r\n",
        "            if it in C:\r\n",
        "                C[it] += 1\r\n",
        "            else:\r\n",
        "                C[it] = 1\r\n",
        "\r\n",
        "L = {}\r\n",
        "for i,j in C.items():\r\n",
        "    if j >= support:\r\n",
        "        L[i] = j"
      ],
      "execution_count": 11,
      "outputs": []
    },
    {
      "cell_type": "code",
      "metadata": {
        "id": "2gAuZMv4vspg"
      },
      "source": [
        "def getL(support, items, lent, transactions):\r\n",
        "    items2 = list(items.keys())\r\n",
        "    L_set = set()\r\n",
        "    for i in items2:\r\n",
        "        for j in items2:\r\n",
        "            if len(i.union(j)) == lent:\r\n",
        "                L_set.add(i.union(j))\r\n",
        "    C = {}\r\n",
        "    for i in range(len(transactions)):\r\n",
        "        for it in L_set:\r\n",
        "            if it.issubset(transactions[i]):\r\n",
        "                if it in C:\r\n",
        "                    C[it] += 1\r\n",
        "                else:\r\n",
        "                    C[it] = 1\r\n",
        "    L = {}\r\n",
        "    for i, j in C.items():\r\n",
        "        if j >= support:\r\n",
        "            L[i] = j\r\n",
        "    return L\r\n"
      ],
      "execution_count": 9,
      "outputs": []
    },
    {
      "cell_type": "code",
      "metadata": {
        "colab": {
          "base_uri": "https://localhost:8080/"
        },
        "id": "YbS3ucoovwrs",
        "outputId": "389ef6b4-798c-4326-ec84-72e96b92a3e2"
      },
      "source": [
        "lent = 2\r\n",
        "TL = {}\r\n",
        "TL[1] = L\r\n",
        "while True:\r\n",
        "    new_L = getL(support, L, lent, transactions)\r\n",
        "    if len(new_L) == 0:\r\n",
        "        break\r\n",
        "    TL[lent] = new_L\r\n",
        "    L = new_L\r\n",
        "    lent += 1\r\n",
        "for i,j in L.items():\r\n",
        "    print(i, ' ', j, '\\n')"
      ],
      "execution_count": 12,
      "outputs": [
        {
          "output_type": "stream",
          "text": [
            "frozenset({'green tea', 'mineral water'})   233 \n",
            "\n",
            "frozenset({'mineral water', 'milk'})   360 \n",
            "\n",
            "frozenset({'mineral water', 'eggs'})   382 \n",
            "\n",
            "frozenset({'spaghetti', 'eggs'})   274 \n",
            "\n",
            "frozenset({'mineral water', 'spaghetti'})   448 \n",
            "\n",
            "frozenset({'eggs', 'chocolate'})   249 \n",
            "\n",
            "frozenset({'mineral water', 'pancakes'})   253 \n",
            "\n",
            "frozenset({'spaghetti', 'milk'})   266 \n",
            "\n",
            "frozenset({'ground beef', 'mineral water'})   307 \n",
            "\n",
            "frozenset({'ground beef', 'spaghetti'})   294 \n",
            "\n",
            "frozenset({'french fries', 'eggs'})   273 \n",
            "\n",
            "frozenset({'mineral water', 'chocolate'})   395 \n",
            "\n",
            "frozenset({'french fries', 'chocolate'})   258 \n",
            "\n",
            "frozenset({'mineral water', 'french fries'})   253 \n",
            "\n",
            "frozenset({'mineral water', 'frozen vegetables'})   268 \n",
            "\n",
            "frozenset({'spaghetti', 'chocolate'})   294 \n",
            "\n",
            "frozenset({'milk', 'chocolate'})   241 \n",
            "\n",
            "frozenset({'milk', 'eggs'})   231 \n",
            "\n"
          ],
          "name": "stdout"
        }
      ]
    },
    {
      "cell_type": "code",
      "metadata": {
        "colab": {
          "base_uri": "https://localhost:8080/"
        },
        "id": "_Ck3CLdfyhe6",
        "outputId": "aff809fd-75a2-4cd5-9968-267c0df15cdc"
      },
      "source": [
        "import itertools\r\n",
        "\r\n",
        "result = {}\r\n",
        "for it in L:\r\n",
        "    ele = it\r\n",
        "    for i in range(1, len(it)):\r\n",
        "        for a_set in itertools.combinations(it, i):\r\n",
        "            b_set = it - frozenset(a_set)\r\n",
        "            a_set = frozenset(a_set)\r\n",
        "            con = TL[len(a_set.union(b_set))][a_set.union(b_set)] / TL[len(a_set)][a_set]\r\n",
        "            if con >= confidence:\r\n",
        "                result[str(set(a_set)) + '->' + str(set(b_set))] = con\r\n",
        "                \r\n",
        "for i,j in result.items():\r\n",
        "    print(i, ' ', j, '\\n')"
      ],
      "execution_count": 13,
      "outputs": [
        {
          "output_type": "stream",
          "text": [
            "{'green tea'}->{'mineral water'}   0.23511604439959638 \n",
            "\n",
            "{'mineral water'}->{'milk'}   0.20134228187919462 \n",
            "\n",
            "{'milk'}->{'mineral water'}   0.37037037037037035 \n",
            "\n",
            "{'mineral water'}->{'eggs'}   0.21364653243847875 \n",
            "\n",
            "{'eggs'}->{'mineral water'}   0.28338278931750743 \n",
            "\n",
            "{'spaghetti'}->{'eggs'}   0.20980091883614088 \n",
            "\n",
            "{'eggs'}->{'spaghetti'}   0.2032640949554896 \n",
            "\n",
            "{'mineral water'}->{'spaghetti'}   0.2505592841163311 \n",
            "\n",
            "{'spaghetti'}->{'mineral water'}   0.3430321592649311 \n",
            "\n",
            "{'chocolate'}->{'eggs'}   0.20260374288039057 \n",
            "\n",
            "{'pancakes'}->{'mineral water'}   0.3548387096774194 \n",
            "\n",
            "{'spaghetti'}->{'milk'}   0.20367534456355282 \n",
            "\n",
            "{'milk'}->{'spaghetti'}   0.2736625514403292 \n",
            "\n",
            "{'ground beef'}->{'mineral water'}   0.41655359565807326 \n",
            "\n",
            "{'ground beef'}->{'spaghetti'}   0.3989145183175034 \n",
            "\n",
            "{'spaghetti'}->{'ground beef'}   0.225114854517611 \n",
            "\n",
            "{'french fries'}->{'eggs'}   0.21294851794071762 \n",
            "\n",
            "{'eggs'}->{'french fries'}   0.20252225519287834 \n",
            "\n",
            "{'mineral water'}->{'chocolate'}   0.220917225950783 \n",
            "\n",
            "{'chocolate'}->{'mineral water'}   0.3213995117982099 \n",
            "\n",
            "{'french fries'}->{'chocolate'}   0.20124804992199688 \n",
            "\n",
            "{'chocolate'}->{'french fries'}   0.20992676973148902 \n",
            "\n",
            "{'frozen vegetables'}->{'mineral water'}   0.3748251748251748 \n",
            "\n",
            "{'spaghetti'}->{'chocolate'}   0.225114854517611 \n",
            "\n",
            "{'chocolate'}->{'spaghetti'}   0.23921887713588283 \n",
            "\n",
            "{'milk'}->{'chocolate'}   0.24794238683127573 \n",
            "\n",
            "{'milk'}->{'eggs'}   0.23765432098765432 \n",
            "\n"
          ],
          "name": "stdout"
        }
      ]
    }
  ]
}